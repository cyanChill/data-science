{
 "cells": [
  {
   "cell_type": "markdown",
   "metadata": {},
   "source": [
    "# Predicting Used Car Prices\n",
    "\n",
    "Suppose we have the following problem:\n",
    "\n",
    "> Tom wants to sell his car, but doesn't know how much he should sell it for. He wants to sell it for as much as possible, but also have it be reasonably priced so someone would want to purchase it. How can we help Tom determine the best price for the car?\n",
    "\n",
    "In short: `Can we estimate the price of a used car based on its characteristics?`.\n",
    "\n",
    "### Data Source\n",
    "\n",
    "The data can be found at: https://archive.ics.uci.edu/dataset/10/automobile\n",
    "- We can view the data contents (excludes headers) at: https://archive.ics.uci.edu/ml/machine-learning-databases/autos/imports-85.data\n",
    "\n",
    "### Table of Contents:\n",
    "\n",
    "- [0. Prerequisites](#0.-Prerequisites)\n",
    "- [1. Reading the Cleaned Data](#1.-Reading-the-Cleaned-Data)\n",
    "- [2. Modeling](#2.-Modeling)\n",
    "  - [2.1 Simple Linear Regression](#2.1-Simple-Linear-Regression)\n",
    "  - [2.2 Multiple Linear Regression](#2.2-Multiple-Linear-Regression)\n",
    "  - [2.3 Polynomial Regression](#2.3-Polynomial-Regression)\n",
    "- [3. Pipelines](#3.-Pipelines)\n",
    "- [4. Model Evaluation Using Visualizations](#4.-Model-Evaluation-Using-Visualizations)\n",
    "  - [4.1 Regression Plot](#4.1-Regression-Plot)\n",
    "  - [4.2 Residual Plot](#4.2-Residual-Plot)\n",
    "  - [4.3 Distribution Plot](#4.3-Distribution-Plot)\n",
    "- [5. Measures for In-Sample Evaluation](#5.-Measures-for-In-Sample-Evaluation)\n",
    "  - [5.1 Simple Linear Regression](#5.1-Simple-Linear-Regression)\n",
    "  - [5.2 Multiple Linear Regression](#5.1-Multiple-Linear-Regression)\n",
    "- [6. Prediction and Decision Making](#6.-Prediction-and-Decision-Making)\n",
    "\n",
    "\n",
    "<hr />"
   ]
  },
  {
   "cell_type": "markdown",
   "metadata": {},
   "source": [
    "# 0. Prerequisites\n",
    "\n",
    "Before you run this notebook, complete the following steps:\n",
    "- Install Libraries/Packages\n",
    "- Import Required Modules\n",
    "\n",
    "\n",
    "### Install Libraries/Packages\n",
    "\n",
    "This will install all of the libraries/packages used in all of the notebooks for this project."
   ]
  },
  {
   "cell_type": "code",
   "execution_count": null,
   "metadata": {},
   "outputs": [],
   "source": [
    "! pip install pandas numpy scipy matplotlib seaborn scikit-learn"
   ]
  },
  {
   "cell_type": "markdown",
   "metadata": {},
   "source": [
    "### Import Required Modules\n",
    "\n",
    "Import and configure the required modules."
   ]
  },
  {
   "cell_type": "code",
   "execution_count": 169,
   "metadata": {},
   "outputs": [],
   "source": [
    "from typing import List\n",
    "import pandas as pd\n",
    "import numpy as np\n",
    "import matplotlib.pyplot as plt\n",
    "import seaborn as sns\n",
    "from sklearn.linear_model import LinearRegression\n",
    "from sklearn.metrics import mean_squared_error, r2_score\n",
    "from sklearn.pipeline import Pipeline\n",
    "from sklearn.preprocessing import PolynomialFeatures, StandardScaler"
   ]
  },
  {
   "cell_type": "markdown",
   "metadata": {},
   "source": [
    "# 1. Reading the Cleaned Data\n",
    "\n",
    "We start off by reading the cleaned dataset, displaying the first 5 rows, and then taking a look at the inferred columns and column types."
   ]
  },
  {
   "cell_type": "code",
   "execution_count": 170,
   "metadata": {},
   "outputs": [
    {
     "data": {
      "text/html": [
       "<div>\n",
       "<style scoped>\n",
       "    .dataframe tbody tr th:only-of-type {\n",
       "        vertical-align: middle;\n",
       "    }\n",
       "\n",
       "    .dataframe tbody tr th {\n",
       "        vertical-align: top;\n",
       "    }\n",
       "\n",
       "    .dataframe thead th {\n",
       "        text-align: right;\n",
       "    }\n",
       "</style>\n",
       "<table border=\"1\" class=\"dataframe\">\n",
       "  <thead>\n",
       "    <tr style=\"text-align: right;\">\n",
       "      <th></th>\n",
       "      <th>symboling</th>\n",
       "      <th>normalized-losses</th>\n",
       "      <th>make</th>\n",
       "      <th>fuel-type</th>\n",
       "      <th>aspiration</th>\n",
       "      <th>num-of-doors</th>\n",
       "      <th>body-style</th>\n",
       "      <th>drive-wheels</th>\n",
       "      <th>engine-location</th>\n",
       "      <th>wheel-base</th>\n",
       "      <th>...</th>\n",
       "      <th>engine-size</th>\n",
       "      <th>fuel-system</th>\n",
       "      <th>bore</th>\n",
       "      <th>stroke</th>\n",
       "      <th>compression-ratio</th>\n",
       "      <th>horsepower</th>\n",
       "      <th>peak-rpm</th>\n",
       "      <th>city-mpg</th>\n",
       "      <th>highway-mpg</th>\n",
       "      <th>price</th>\n",
       "    </tr>\n",
       "  </thead>\n",
       "  <tbody>\n",
       "    <tr>\n",
       "      <th>0</th>\n",
       "      <td>3</td>\n",
       "      <td>122</td>\n",
       "      <td>alfa-romero</td>\n",
       "      <td>gas</td>\n",
       "      <td>std</td>\n",
       "      <td>two</td>\n",
       "      <td>convertible</td>\n",
       "      <td>rwd</td>\n",
       "      <td>front</td>\n",
       "      <td>88.6</td>\n",
       "      <td>...</td>\n",
       "      <td>130</td>\n",
       "      <td>mpfi</td>\n",
       "      <td>3.47</td>\n",
       "      <td>2.68</td>\n",
       "      <td>9.0</td>\n",
       "      <td>111.0</td>\n",
       "      <td>5000.0</td>\n",
       "      <td>21</td>\n",
       "      <td>27</td>\n",
       "      <td>13495.0</td>\n",
       "    </tr>\n",
       "    <tr>\n",
       "      <th>1</th>\n",
       "      <td>3</td>\n",
       "      <td>122</td>\n",
       "      <td>alfa-romero</td>\n",
       "      <td>gas</td>\n",
       "      <td>std</td>\n",
       "      <td>two</td>\n",
       "      <td>convertible</td>\n",
       "      <td>rwd</td>\n",
       "      <td>front</td>\n",
       "      <td>88.6</td>\n",
       "      <td>...</td>\n",
       "      <td>130</td>\n",
       "      <td>mpfi</td>\n",
       "      <td>3.47</td>\n",
       "      <td>2.68</td>\n",
       "      <td>9.0</td>\n",
       "      <td>111.0</td>\n",
       "      <td>5000.0</td>\n",
       "      <td>21</td>\n",
       "      <td>27</td>\n",
       "      <td>16500.0</td>\n",
       "    </tr>\n",
       "    <tr>\n",
       "      <th>2</th>\n",
       "      <td>1</td>\n",
       "      <td>122</td>\n",
       "      <td>alfa-romero</td>\n",
       "      <td>gas</td>\n",
       "      <td>std</td>\n",
       "      <td>two</td>\n",
       "      <td>hatchback</td>\n",
       "      <td>rwd</td>\n",
       "      <td>front</td>\n",
       "      <td>94.5</td>\n",
       "      <td>...</td>\n",
       "      <td>152</td>\n",
       "      <td>mpfi</td>\n",
       "      <td>2.68</td>\n",
       "      <td>3.47</td>\n",
       "      <td>9.0</td>\n",
       "      <td>154.0</td>\n",
       "      <td>5000.0</td>\n",
       "      <td>19</td>\n",
       "      <td>26</td>\n",
       "      <td>16500.0</td>\n",
       "    </tr>\n",
       "    <tr>\n",
       "      <th>3</th>\n",
       "      <td>2</td>\n",
       "      <td>164</td>\n",
       "      <td>audi</td>\n",
       "      <td>gas</td>\n",
       "      <td>std</td>\n",
       "      <td>four</td>\n",
       "      <td>sedan</td>\n",
       "      <td>fwd</td>\n",
       "      <td>front</td>\n",
       "      <td>99.8</td>\n",
       "      <td>...</td>\n",
       "      <td>109</td>\n",
       "      <td>mpfi</td>\n",
       "      <td>3.19</td>\n",
       "      <td>3.40</td>\n",
       "      <td>10.0</td>\n",
       "      <td>102.0</td>\n",
       "      <td>5500.0</td>\n",
       "      <td>24</td>\n",
       "      <td>30</td>\n",
       "      <td>13950.0</td>\n",
       "    </tr>\n",
       "    <tr>\n",
       "      <th>4</th>\n",
       "      <td>2</td>\n",
       "      <td>164</td>\n",
       "      <td>audi</td>\n",
       "      <td>gas</td>\n",
       "      <td>std</td>\n",
       "      <td>four</td>\n",
       "      <td>sedan</td>\n",
       "      <td>4wd</td>\n",
       "      <td>front</td>\n",
       "      <td>99.4</td>\n",
       "      <td>...</td>\n",
       "      <td>136</td>\n",
       "      <td>mpfi</td>\n",
       "      <td>3.19</td>\n",
       "      <td>3.40</td>\n",
       "      <td>8.0</td>\n",
       "      <td>115.0</td>\n",
       "      <td>5500.0</td>\n",
       "      <td>18</td>\n",
       "      <td>22</td>\n",
       "      <td>17450.0</td>\n",
       "    </tr>\n",
       "  </tbody>\n",
       "</table>\n",
       "<p>5 rows × 26 columns</p>\n",
       "</div>"
      ],
      "text/plain": [
       "   symboling  normalized-losses         make fuel-type aspiration  \\\n",
       "0          3                122  alfa-romero       gas        std   \n",
       "1          3                122  alfa-romero       gas        std   \n",
       "2          1                122  alfa-romero       gas        std   \n",
       "3          2                164         audi       gas        std   \n",
       "4          2                164         audi       gas        std   \n",
       "\n",
       "  num-of-doors   body-style drive-wheels engine-location  wheel-base  ...  \\\n",
       "0          two  convertible          rwd           front        88.6  ...   \n",
       "1          two  convertible          rwd           front        88.6  ...   \n",
       "2          two    hatchback          rwd           front        94.5  ...   \n",
       "3         four        sedan          fwd           front        99.8  ...   \n",
       "4         four        sedan          4wd           front        99.4  ...   \n",
       "\n",
       "   engine-size  fuel-system  bore  stroke compression-ratio horsepower  \\\n",
       "0          130         mpfi  3.47    2.68               9.0      111.0   \n",
       "1          130         mpfi  3.47    2.68               9.0      111.0   \n",
       "2          152         mpfi  2.68    3.47               9.0      154.0   \n",
       "3          109         mpfi  3.19    3.40              10.0      102.0   \n",
       "4          136         mpfi  3.19    3.40               8.0      115.0   \n",
       "\n",
       "   peak-rpm city-mpg  highway-mpg    price  \n",
       "0    5000.0       21           27  13495.0  \n",
       "1    5000.0       21           27  16500.0  \n",
       "2    5000.0       19           26  16500.0  \n",
       "3    5500.0       24           30  13950.0  \n",
       "4    5500.0       18           22  17450.0  \n",
       "\n",
       "[5 rows x 26 columns]"
      ]
     },
     "execution_count": 170,
     "metadata": {},
     "output_type": "execute_result"
    }
   ],
   "source": [
    "# Define file location.\n",
    "DATA_PATH = \"./automobile_cleaned.csv\"\n",
    "# Use pandas to read the data.\n",
    "cleaned_data = pd.read_csv(DATA_PATH)\n",
    "# Display the first 5 rows.\n",
    "cleaned_data.head()"
   ]
  },
  {
   "cell_type": "code",
   "execution_count": 171,
   "metadata": {},
   "outputs": [
    {
     "data": {
      "text/plain": [
       "symboling              int64\n",
       "normalized-losses      int64\n",
       "make                  object\n",
       "fuel-type             object\n",
       "aspiration            object\n",
       "num-of-doors          object\n",
       "body-style            object\n",
       "drive-wheels          object\n",
       "engine-location       object\n",
       "wheel-base           float64\n",
       "length               float64\n",
       "width                float64\n",
       "height               float64\n",
       "curb-weight            int64\n",
       "engine-type           object\n",
       "num-of-cylinders      object\n",
       "engine-size            int64\n",
       "fuel-system           object\n",
       "bore                 float64\n",
       "stroke               float64\n",
       "compression-ratio    float64\n",
       "horsepower           float64\n",
       "peak-rpm             float64\n",
       "city-mpg               int64\n",
       "highway-mpg            int64\n",
       "price                float64\n",
       "dtype: object"
      ]
     },
     "execution_count": 171,
     "metadata": {},
     "output_type": "execute_result"
    }
   ],
   "source": [
    "cleaned_data.dtypes"
   ]
  },
  {
   "cell_type": "markdown",
   "metadata": {},
   "source": [
    "# 2. Modeling\n",
    "\n",
    "There are many models available to choose, in which we'll test the following:\n",
    "- Simple Linear Regression\n",
    "- Multiple Linear Regression\n",
    "- Polynomial Regression\n",
    "\n",
    "### 2.1 Simple Linear Regression\n",
    "\n",
    "This model helps us understand the relationship between 2 variables through a linear equation (`y = a + bx`).\n",
    "\n",
    "For our example, we'll create a simple linear regression model to figure out how `highway-mpg` can be used to predict car prices."
   ]
  },
  {
   "cell_type": "code",
   "execution_count": 172,
   "metadata": {},
   "outputs": [],
   "source": [
    "def createLRModel(independent_variables: List[str]):\n",
    "  \"\"\"\n",
    "  Creates a Linear Regression model which predicts the `price` from the\n",
    "  provided independent variables. Works with both Simple & Multiple Linear\n",
    "  Regression.\n",
    "  \"\"\"\n",
    "  # Create Linear Regression object.\n",
    "  lre = LinearRegression()\n",
    "  # Get the values for the independent & dependent variables.\n",
    "  X = cleaned_data[independent_variables]\n",
    "  Y = cleaned_data[\"price\"]\n",
    "  # Fit/train the model.\n",
    "  lre.fit(X, Y)\n",
    "  # Predict values.\n",
    "  Yhat = lre.predict(X)\n",
    "  # Generate the resulting linear equation.\n",
    "  eq = f\"y = {lre.intercept_}{\"\".join([f\" + ({lre.coef_[i]} * {ind_var})\" for i, ind_var in enumerate(independent_variables)])}\"\n",
    "  return (lre, X, Y, Yhat, eq)\n",
    "\n",
    "def analyzeLRModel(independent_variables: List[str], n=5):\n",
    "  \"\"\"\n",
    "  Prints out the equation from creating a Linear Regression model from\n",
    "  independent variables and displays the first `n` rows comparing the\n",
    "  predicted and actual results.\n",
    "  \"\"\"\n",
    "  _, _, Y, Yhat, eq = createLRModel(independent_variables)\n",
    "  # Print linear equation representing Linear Regression model.\n",
    "  print(eq)\n",
    "  # Compare the predicted results with the actual values.\n",
    "  comparison = pd.DataFrame({\n",
    "    **{ ind_var: cleaned_data[ind_var] for ind_var in independent_variables }, # Unpack dictionary\n",
    "    \"price\": Y,\n",
    "    \"predicted-price\": Yhat,\n",
    "    \"price-difference\": Y - Yhat\n",
    "  })\n",
    "  with pd.option_context(\"display.max_columns\", None, \"display.width\", 1000):\n",
    "    print(comparison[:n])"
   ]
  },
  {
   "cell_type": "code",
   "execution_count": 173,
   "metadata": {},
   "outputs": [
    {
     "name": "stdout",
     "output_type": "stream",
     "text": [
      "y = 38423.3058581574 + (-821.7333783219254 * highway-mpg)\n",
      "   highway-mpg    price  predicted-price  price-difference\n",
      "0           27  13495.0     16236.504643      -2741.504643\n",
      "1           27  16500.0     16236.504643        263.495357\n",
      "2           26  16500.0     17058.238022       -558.238022\n",
      "3           30  13950.0     13771.304508        178.695492\n",
      "4           22  17450.0     20345.171535      -2895.171535\n"
     ]
    }
   ],
   "source": [
    "# Allow us to dynamically change the independent variable used.\n",
    "ind_variable = \"highway-mpg\"\n",
    "\n",
    "analyzeLRModel([ind_variable])"
   ]
  },
  {
   "cell_type": "markdown",
   "metadata": {},
   "source": [
    "### 2.2 Multiple Linear Regression\n",
    "\n",
    "This allows us to understand the relation between a continuous target variable and multiple predictor variables through a linear equation (`y = a + (b1 * x1) + (b2 * x2) + ...`).\n",
    "\n",
    "For our example, we'll create a multiple linear regression model to figure out how `horsepower`, `curb-weight`, `engine-size`, and `highway-mpg` can be used to predict car prices."
   ]
  },
  {
   "cell_type": "code",
   "execution_count": 174,
   "metadata": {},
   "outputs": [
    {
     "name": "stdout",
     "output_type": "stream",
     "text": [
      "y = -15824.03820823447 + (53.610427289244285 * horsepower) + (4.708864437965234 * curb-weight) + (81.47225667191267 * engine-size) + (36.396378233810076 * highway-mpg)\n",
      "   horsepower  curb-weight  engine-size  highway-mpg    price  predicted-price  price-difference\n",
      "0       111.0         2548          130           27  13495.0     13699.001388       -204.001388\n",
      "1       111.0         2548          130           27  16500.0     13699.001388       2800.998612\n",
      "2       154.0         2823          152           26  16500.0     19055.180751      -2555.180751\n",
      "3       102.0         2337          109           30  13950.0     10621.208891       3328.791109\n",
      "4       115.0         2824          136           22  17450.0     15519.941331       1930.058669\n"
     ]
    }
   ],
   "source": [
    "# Allow us to dynamically change the independent variables used.\n",
    "ind_variables = [\"horsepower\", \"curb-weight\", \"engine-size\", \"highway-mpg\"]\n",
    "\n",
    "analyzeLRModel(ind_variables)"
   ]
  },
  {
   "cell_type": "markdown",
   "metadata": {},
   "source": [
    "### 2.3 Polynomial Regression\n",
    "\n",
    "Polynomial regression is a special case of the linear regression model for describing curvilinear relationships, represented by a higher-order equation.\n",
    "\n",
    "This involves a couple of steps:\n",
    "1. Normalize/standardize features.\n",
    "2. Creating a feature matrix containing all polynomial combinations of the provided features with degree ≤2.\n",
    "3. Create a linear regression with the polynomial features object.\n",
    "\n",
    "Below, we'll create the feature matrix for a polynomial regression model of degree 2 with the `horsepower`, `curb-weight`, `engine-size`, and `highway-mpg` features."
   ]
  },
  {
   "cell_type": "code",
   "execution_count": 175,
   "metadata": {},
   "outputs": [
    {
     "name": "stdout",
     "output_type": "stream",
     "text": [
      "Transformed 4 features into 15 features.\n"
     ]
    }
   ],
   "source": [
    "# Get dataframe of features from `2.2 Multiple Linear Regression` code.\n",
    "_, X, Y, Yhat, _ = createLRModel(ind_variables)\n",
    "\n",
    "# Create a feature matrix containing all polynomial combinations of the provided features with degree ≤2.\n",
    "pr = PolynomialFeatures(degree=2)\n",
    "poly_features = pr.fit_transform(X)\n",
    "print(f\"Transformed {X.shape[1]} features into {poly_features.shape[1]} features.\")"
   ]
  },
  {
   "cell_type": "markdown",
   "metadata": {},
   "source": [
    "# 3. Pipelines\n",
    "\n",
    "Pipelines simplify the steps of processing the data.\n",
    "\n",
    "We'll now complete all the steps for creating a polynomial regression model from the example in section `2.3`."
   ]
  },
  {
   "cell_type": "code",
   "execution_count": 176,
   "metadata": {},
   "outputs": [
    {
     "data": {
      "text/html": [
       "<div>\n",
       "<style scoped>\n",
       "    .dataframe tbody tr th:only-of-type {\n",
       "        vertical-align: middle;\n",
       "    }\n",
       "\n",
       "    .dataframe tbody tr th {\n",
       "        vertical-align: top;\n",
       "    }\n",
       "\n",
       "    .dataframe thead th {\n",
       "        text-align: right;\n",
       "    }\n",
       "</style>\n",
       "<table border=\"1\" class=\"dataframe\">\n",
       "  <thead>\n",
       "    <tr style=\"text-align: right;\">\n",
       "      <th></th>\n",
       "      <th>horsepower</th>\n",
       "      <th>curb-weight</th>\n",
       "      <th>engine-size</th>\n",
       "      <th>highway-mpg</th>\n",
       "      <th>price</th>\n",
       "      <th>predicted-price</th>\n",
       "      <th>price-difference</th>\n",
       "    </tr>\n",
       "  </thead>\n",
       "  <tbody>\n",
       "    <tr>\n",
       "      <th>0</th>\n",
       "      <td>111.0</td>\n",
       "      <td>2548</td>\n",
       "      <td>130</td>\n",
       "      <td>27</td>\n",
       "      <td>13495.0</td>\n",
       "      <td>13103.377450</td>\n",
       "      <td>391.622550</td>\n",
       "    </tr>\n",
       "    <tr>\n",
       "      <th>1</th>\n",
       "      <td>111.0</td>\n",
       "      <td>2548</td>\n",
       "      <td>130</td>\n",
       "      <td>27</td>\n",
       "      <td>16500.0</td>\n",
       "      <td>13103.377450</td>\n",
       "      <td>3396.622550</td>\n",
       "    </tr>\n",
       "    <tr>\n",
       "      <th>2</th>\n",
       "      <td>154.0</td>\n",
       "      <td>2823</td>\n",
       "      <td>152</td>\n",
       "      <td>26</td>\n",
       "      <td>16500.0</td>\n",
       "      <td>18228.500455</td>\n",
       "      <td>-1728.500455</td>\n",
       "    </tr>\n",
       "    <tr>\n",
       "      <th>3</th>\n",
       "      <td>102.0</td>\n",
       "      <td>2337</td>\n",
       "      <td>109</td>\n",
       "      <td>30</td>\n",
       "      <td>13950.0</td>\n",
       "      <td>10392.955633</td>\n",
       "      <td>3557.044367</td>\n",
       "    </tr>\n",
       "    <tr>\n",
       "      <th>4</th>\n",
       "      <td>115.0</td>\n",
       "      <td>2824</td>\n",
       "      <td>136</td>\n",
       "      <td>22</td>\n",
       "      <td>17450.0</td>\n",
       "      <td>16133.768744</td>\n",
       "      <td>1316.231256</td>\n",
       "    </tr>\n",
       "  </tbody>\n",
       "</table>\n",
       "</div>"
      ],
      "text/plain": [
       "   horsepower  curb-weight  engine-size  highway-mpg    price  \\\n",
       "0       111.0         2548          130           27  13495.0   \n",
       "1       111.0         2548          130           27  16500.0   \n",
       "2       154.0         2823          152           26  16500.0   \n",
       "3       102.0         2337          109           30  13950.0   \n",
       "4       115.0         2824          136           22  17450.0   \n",
       "\n",
       "   predicted-price  price-difference  \n",
       "0     13103.377450        391.622550  \n",
       "1     13103.377450       3396.622550  \n",
       "2     18228.500455      -1728.500455  \n",
       "3     10392.955633       3557.044367  \n",
       "4     16133.768744       1316.231256  "
      ]
     },
     "execution_count": 176,
     "metadata": {},
     "output_type": "execute_result"
    }
   ],
   "source": [
    "# Create a list of tuples containing the steps used for\n",
    "steps = [\n",
    "  # Transformations\n",
    "  (\"scale\", StandardScaler()),\n",
    "  (\"polynomial\", PolynomialFeatures(degree=2, include_bias=False)),\n",
    "  # Prediction\n",
    "  (\"model\", LinearRegression())\n",
    "  ]\n",
    "# Create the pipeline object.\n",
    "pipe = Pipeline(steps)\n",
    "# Convert the independent variables to use the `float` type.\n",
    "X = X.astype(float)\n",
    "# Fit/train the model.\n",
    "pipe.fit(X, Y)\n",
    "# Predict values.\n",
    "ypipe = pipe.predict(X)\n",
    "# Compare the predicted results with the actual values.\n",
    "ind_vars_dict = { ind_var: cleaned_data[ind_var] for ind_var in ind_variables }\n",
    "comparison = pd.DataFrame({\n",
    "  **ind_vars_dict, # Unpack dictionary\n",
    "  \"price\": cleaned_data[\"price\"],\n",
    "  \"predicted-price\": ypipe,\n",
    "  \"price-difference\": cleaned_data[\"price\"] - ypipe\n",
    "})\n",
    "comparison[:5]"
   ]
  },
  {
   "cell_type": "markdown",
   "metadata": {},
   "source": [
    "# 4. Model Evaluation Using Visualizations\n",
    "\n",
    "There are many ways on how we can evaluate our models. One way is through visualizations.\n",
    "\n",
    "### 4.1 Regression Plot\n",
    "\n",
    "Regression plots are a good way of visualizing whether the results of our model (visualized through a regression line) is a good fit for the data (the dots in a scatter plot).\n",
    "\n",
    "> You can refer to the `2.2.1 Scatter Plot with Regression Line` section in `2. Data Analysis.ipynb`.\n",
    "\n",
    "### 4.2 Residual Plot\n",
    "\n",
    "Residual plots are a good way of visualizing variance as it displays the **residuals/error/difference** between the actual and predicted values. We want to pay attention to the **spread of the residual**.\n",
    "- If the points are spread out along the x-axis, then a linear model is appropriate.\n",
    "- If the points are spread out in a curvilinear shape, then a nonlinear function may be required.\n",
    "\n",
    "Let's see a residual plot for the relation between `highway-mpg` and `price`."
   ]
  },
  {
   "cell_type": "code",
   "execution_count": 177,
   "metadata": {},
   "outputs": [
    {
     "data": {
      "text/plain": [
       "<Axes: xlabel='highway-mpg', ylabel='price'>"
      ]
     },
     "execution_count": 177,
     "metadata": {},
     "output_type": "execute_result"
    },
    {
     "data": {
      "image/png": "[encoded data removed]",
      "text/plain": [
       "<Figure size 640x480 with 1 Axes>"
      ]
     },
     "metadata": {},
     "output_type": "display_data"
    }
   ],
   "source": [
    "sns.residplot(x=cleaned_data[\"highway-mpg\"], y=cleaned_data[\"price\"])"
   ]
  },
  {
   "cell_type": "markdown",
   "metadata": {},
   "source": [
    "We observe that the residuals aren't spread out along the x-axis, indicating that a non-linear model may be more appropriate for the data.\n",
    "\n",
    "### 4.3 Distribution Plot\n",
    "\n",
    "One problem we now face is figuring out how we can visualize a Multiple Linear Regression model as the plots we've been working for only works for a single independent & dependent variable.\n",
    "\n",
    "A distribution plot solves this problem. This plot looks at the distribution of the fitted values from the model and compares it to the distribution of the actual values.\n",
    "\n",
    "Let's plot a distribution plot for the Multiple Linear Regression model from Section 2.2."
   ]
  },
  {
   "cell_type": "code",
   "execution_count": 178,
   "metadata": {},
   "outputs": [
    {
     "data": {
      "image/png": "[encoded data removed]",
      "text/plain": [
       "<Figure size 640x480 with 1 Axes>"
      ]
     },
     "metadata": {},
     "output_type": "display_data"
    }
   ],
   "source": [
    "ax1 = sns.kdeplot(cleaned_data[\"price\"], color=\"r\", label=\"Actual Value\")\n",
    "sns.kdeplot(Yhat, color=\"b\", label=\"Fitted Values\", ax=ax1)\n",
    "\n",
    "plt.title(\"Actual vs Fitted Values for Price\")\n",
    "plt.xlabel(\"Price (in dollars)\")\n",
    "plt.ylabel(\"Proportion of Cars\")\n",
    "plt.legend()\n",
    "\n",
    "plt.show()\n",
    "plt.close()"
   ]
  },
  {
   "cell_type": "markdown",
   "metadata": {},
   "source": [
    "We can observe that the fitted values are reasonably close to the actual values since the 2 distributions overlap a bit. However, this can be improved.\n",
    "\n",
    "# 5. Measures for In-Sample Evaluation\n",
    "\n",
    "When evaluating models, we want a quantitative measure to determine how accurate the model is. There are 2 important measures used to determine the accuracy of a model are: Mean Squared Error (MSE) and R-squared (R^2).\n",
    "\n",
    "**Mean Squared Error (MSE):**\n",
    "\n",
    "This is the average of the squares of errors (the error being the difference between the actual & predicted values). The smaller the value, the better the fit.\n",
    "\n",
    "**R-squared:**\n",
    "\n",
    "Also known as the Coefficient of Determination, it's a measure of how close the data is to the fitted regression line.\n",
    "\n",
    "### 5.1 Simple Linear Regression\n",
    "\n",
    "We can find the value of R^2 by using the `score()` method on the model. The MSE can be obtained by using the `mean_squared_error()` from Scikit-learn.\n",
    "\n",
    "For our SLR from Section 2.1:"
   ]
  },
  {
   "cell_type": "code",
   "execution_count": 179,
   "metadata": {},
   "outputs": [
    {
     "name": "stdout",
     "output_type": "stream",
     "text": [
      "The R-square is: 0.4965911884339176\n",
      "The MSE of price and its predicted value is: 31635042.944639888\n"
     ]
    }
   ],
   "source": [
    "lre, X, Y, Yhat, _ = createLRModel([ind_variable])\n",
    "\n",
    "print(f\"The R-square is: {lre.score(X, Y)}\")\n",
    "print(f\"The MSE of price and its predicted value is: {mean_squared_error(Y, Yhat)}\")"
   ]
  },
  {
   "cell_type": "markdown",
   "metadata": {},
   "source": [
    "From our observations, we can say that ~49.659% of the variation of the price is explained by the SLR for `highway-mpg`.\n",
    "\n",
    "> No observation can be said about the MSE as this is the \"baseline\" value.\n",
    "\n",
    "### 5.2 Multiple Linear Regression\n",
    "\n",
    "Likewise, we can follow the same steps as in Section 5.1 to find the R^2 and MSE value for our MLR from Section 2.2:"
   ]
  },
  {
   "cell_type": "code",
   "execution_count": 180,
   "metadata": {},
   "outputs": [
    {
     "name": "stdout",
     "output_type": "stream",
     "text": [
      "The R-square is: 0.8094130135602673\n",
      "The MSE of price and its predicted value is: 11976801.681229586\n"
     ]
    }
   ],
   "source": [
    "lre, X, Y, Yhat, _ = createLRModel(ind_variables)\n",
    "\n",
    "print(f\"The R-square is: {lre.score(X, Y)}\")\n",
    "print(f\"The MSE of price and its predicted value is: {mean_squared_error(Y, Yhat)}\")"
   ]
  },
  {
   "cell_type": "markdown",
   "metadata": {},
   "source": [
    "From our observations, we can say that:\n",
    "- ~80.941% of the variation of the price is explained by the MLR for `highway-mpg`.\n",
    "- We observe a noticeably lower MSE compared to the SLR model.\n",
    "\n",
    "### 5.3 Polynomial Fit\n",
    "\n",
    "For this, we need a different function to get the R^2 value.\n",
    "\n",
    "We'll make a simple cubic function for the `highway-mpg` feature to see if there's any difference."
   ]
  },
  {
   "cell_type": "code",
   "execution_count": 181,
   "metadata": {},
   "outputs": [
    {
     "name": "stdout",
     "output_type": "stream",
     "text": [
      "The R-square is: 0.674194666390652\n",
      "The MSE of price and its predicted value is: 20474146.426361218\n"
     ]
    }
   ],
   "source": [
    "# Get our independent & dependent variables.\n",
    "X = cleaned_data[\"highway-mpg\"]\n",
    "Y = cleaned_data[\"price\"]\n",
    "# Create the cubic function.\n",
    "f = np.polyfit(X, Y, 3)\n",
    "p = np.poly1d(f)\n",
    "# Predict values.\n",
    "Yhat = p(X)\n",
    "\n",
    "print(f\"The R-square is: {r2_score(Y, Yhat)}\")\n",
    "print(f\"The MSE of price and its predicted value is: {mean_squared_error(Y, Yhat)}\")"
   ]
  },
  {
   "cell_type": "markdown",
   "metadata": {},
   "source": [
    "From our observations, we can say that:\n",
    "- ~67.419% of the variation of the price is explained by the polynomial fit for `highway-mpg`.\n",
    "- We observe a noticeably lower MSE compared to the SLR model, but not as low as the MLR model.\n",
    "\n",
    "# 6. Prediction and Decision Making\n",
    "\n",
    "After testing out a couple of models along with finding the R-squared and MSE values for them, we need to figure out which model is a good fit. There are some pointers to a good model such as:\n",
    "- The model with the highest R^2 value has the best fit for the data.\n",
    "- The model with the smallest MSE value has the best fit for the data.\n",
    "\n",
    "From the earlier analysis, we noticed that the MLR model had the largest R^2 value and smallest MSE value compared to the SLR and Polynomial Fit models."
   ]
  }
 ],
 "metadata": {
  "kernelspec": {
   "display_name": "Python 3",
   "language": "python",
   "name": "python3"
  },
  "language_info": {
   "codemirror_mode": {
    "name": "ipython",
    "version": 3
   },
   "file_extension": ".py",
   "mimetype": "text/x-python",
   "name": "python",
   "nbconvert_exporter": "python",
   "pygments_lexer": "ipython3",
   "version": "3.12.7"
  }
 },
 "nbformat": 4,
 "nbformat_minor": 2
}
